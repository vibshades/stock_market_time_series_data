{
 "cells": [
  {
   "cell_type": "code",
   "execution_count": 3,
   "metadata": {},
   "outputs": [],
   "source": [
    "import numpy as np\n",
    "from hmmlearn.hmm import GaussianHMM\n",
    "import pandas_datareader as pdr\n",
    "import pandas_datareader.data as web\n",
    "from datetime import datetime\n",
    "import matplotlib.pyplot as plt\n",
    "import pandas as pd\n",
    "import yfinance as yf\n",
    "import matplotlib.pyplot as plt\n",
    "import itertools"
   ]
  },
  {
   "cell_type": "code",
   "execution_count": 8,
   "metadata": {},
   "outputs": [
    {
     "name": "stdout",
     "output_type": "stream",
     "text": [
      "[*********************100%***********************]  1 of 1 completed\n"
     ]
    },
    {
     "data": {
      "text/plain": [
       "130"
      ]
     },
     "execution_count": 8,
     "metadata": {},
     "output_type": "execute_result"
    }
   ],
   "source": [
    "df = yf.download(\"^NSEI\", start=\"2018-05-29\", end=\"2018-12-07\")\n",
    "df.to_csv('^NSEI.csv')\n",
    "df.shape[0]"
   ]
  },
  {
   "cell_type": "code",
   "execution_count": 26,
   "metadata": {},
   "outputs": [
    {
     "name": "stdout",
     "output_type": "stream",
     "text": [
      "[10224.75, 10124.900390625, 10030.0, 10250.849609375, 10198.400390625, 10386.599609375, 10380.4501953125, 10553.0, 10524.0, 10530.0, 10598.400390625, 10585.2001953125, 10482.2001953125, 10582.5, 10576.2998046875, 10616.7001953125, 10682.2001953125, 10763.400390625, 10656.2001953125, 10600.0498046875, 10526.75, 10628.599609375, 10685.599609375, 10728.849609375, 10858.7001953125, 10876.75, 10883.75, 10869.5, 10782.900390625, 10601.150390625]\n",
      "[10278.150390625, 10135.0498046875, 10122.349609375, 10078.099609375, 10239.400390625, 10209.5498046875, 10441.7001953125, 10462.2998046875, 10558.75, 10552.0, 10614.4501953125, 10614.7001953125, 10607.7998046875, 10451.900390625, 10634.900390625, 10580.599609375, 10644.0, 10731.25, 10740.099609375, 10670.9501953125, 10612.650390625, 10568.2998046875, 10621.4501953125, 10708.75, 10808.7001953125, 10892.099609375, 10930.7001953125, 10877.099609375, 10820.4501953125, 10718.150390625]\n"
     ]
    },
    {
     "data": {
      "image/png": "[encoded data removed]",
      "text/plain": [
       "<Figure size 432x288 with 1 Axes>"
      ]
     },
     "metadata": {
      "needs_background": "light"
     },
     "output_type": "display_data"
    }
   ],
   "source": [
    "class HMM_Prediction:\n",
    "    \n",
    "    def __init__(self, hidden_states=4, latency=14, train_size=100):\n",
    "        self.latency = latency\n",
    "        self.hmm = GaussianHMM(n_components=hidden_states)\n",
    "        self.data = pd.read_csv('^NSEI.csv')\n",
    "        self.train_data = self.get_fractions(self.data[:train_size])\n",
    "        self.test_data = self.get_fractions(self.data[train_size:])\n",
    "        self.test_open_prices = self.data['Open'][train_size:]\n",
    "        self.test_close_prices = self.data['Close'][train_size:]\n",
    "        self.possible_observations = self.get_possible_observations()\n",
    "        \n",
    "    def get_fractions(self, df):\n",
    "        np_open = np.array(list(df['Open']))\n",
    "        np_close = np.array(list(df['Close']))\n",
    "        np_high = np.array(list(df['High']))\n",
    "        np_low = np.array(list(df['Low']))\n",
    "        fr_close = (np_close-np_open)/np_open\n",
    "        fr_high = (np_high-np_open)/np_open\n",
    "        fr_low = (np_open-np_low)/np_open\n",
    "        return np.column_stack((fr_close, fr_high, fr_low))\n",
    "    \n",
    "    def get_possible_observations(self, close_steps=21, high_steps=11, low_steps=11):\n",
    "        close_fractions = np.linspace(-0.1, 0.1, close_steps)\n",
    "        high_fractions = np.linspace(0, 0.1, high_steps)\n",
    "        low_fractions = np.linspace(0, 0.1, low_steps)\n",
    "        possible_observations = np.array(list(itertools.product(close_fractions, high_fractions, low_fractions)))\n",
    "        return possible_observations\n",
    "    \n",
    "    def predict_close_value(self, index):\n",
    "        if index >= self.latency:\n",
    "            min_index = index-self.latency\n",
    "        else:\n",
    "            min_index = 0\n",
    "        max_index = (index-1) if index > 0 else 0\n",
    "        past_observations = self.test_data[min_index : max_index]\n",
    "        scores = []\n",
    "        for observation in self.possible_observations:\n",
    "            observation_sequence = np.row_stack((past_observations, observation))\n",
    "            scores.append(self.hmm.score(observation_sequence))\n",
    "        most_probable_observation = self.possible_observations[np.argmax(scores)][0]\n",
    "        open_value = list(self.test_open_prices)[index]\n",
    "        return open_value*(1 + most_probable_observation)\n",
    "    \n",
    "    def test_predictions(self):\n",
    "        predicted_closing_prices = []\n",
    "        for index in range(len(self.test_data)):\n",
    "            predicted_closing_prices.append(self.predict_close_value(index))\n",
    "            \n",
    "        real_close_prices = list(self.test_close_prices)\n",
    "\n",
    "        fig = plt.figure()\n",
    "\n",
    "        axes = fig.add_subplot(111)\n",
    "        indices = list(range(len(real_close_prices)))\n",
    "        axes.plot(indices, real_close_prices, 'bo-', label=\"actual\")\n",
    "        axes.plot(indices, predicted_closing_prices, 'r+-', label=\"predicted\")\n",
    "\n",
    "        fig.autofmt_xdate()\n",
    "        print(real_close_prices)\n",
    "        print(predicted_closing_prices)\n",
    "        plt.legend()\n",
    "        plt.show() \n",
    "        \n",
    "\n",
    "hmm_stocks = HMM_Prediction()\n",
    "hmm_stocks.hmm.fit(hmm_stocks.train_data)\n",
    "hmm_stocks.test_predictions()\n",
    "\n",
    "        \n",
    "    \n",
    "    \n",
    "        \n",
    "        \n",
    "        \n",
    "        \n",
    "        \n",
    "        "
   ]
  },
  {
   "cell_type": "code",
   "execution_count": null,
   "metadata": {},
   "outputs": [],
   "source": []
  }
 ],
 "metadata": {
  "kernelspec": {
   "display_name": "Python 3",
   "language": "python",
   "name": "python3"
  },
  "language_info": {
   "codemirror_mode": {
    "name": "ipython",
    "version": 3
   },
   "file_extension": ".py",
   "mimetype": "text/x-python",
   "name": "python",
   "nbconvert_exporter": "python",
   "pygments_lexer": "ipython3",
   "version": "3.8.3"
  }
 },
 "nbformat": 4,
 "nbformat_minor": 4
}
